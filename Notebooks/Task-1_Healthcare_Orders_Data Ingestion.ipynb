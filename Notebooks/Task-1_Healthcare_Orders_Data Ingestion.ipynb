from pyspark.sql.functions import col, to_date

# Load raw table
df_raw = spark.table("healthcare_orders")

# Clean and transform data
df_cleaned = (
    df_raw.withColumn("order_date", to_date(col("order_date"), "yyyy-MM-dd"))
          .withColumn("total_value", col("quantity") * col("price"))
)

# Save as a managed Silver table
df_cleaned.createOrReplaceTempView("tmp_healthcare_orders_cleaned")

spark.sql("""
    CREATE OR REPLACE TABLE silver_healthcare_orders AS
    SELECT * 
    FROM tmp_healthcare_orders_cleaned
""")
